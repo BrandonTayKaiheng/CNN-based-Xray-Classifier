{
 "cells": [
  {
   "cell_type": "markdown",
   "metadata": {},
   "source": [
    "### Import dependencies"
   ]
  },
  {
   "cell_type": "code",
   "execution_count": 35,
   "metadata": {},
   "outputs": [],
   "source": [
    "# Imports (Non exhaustive)\n",
    "import numpy as np    \n",
    "import pandas as pd\n",
    "import matplotlib.pyplot as plt\n",
    "\n",
    "# Tensorflow API new structure for Tensorflow v2.15.0\n",
    "import tensorflow as tf\n",
    "from tensorflow import keras\n",
    "from tensorflow.keras.models import Sequential\n",
    "from tensorflow.keras.layers import Dense, Conv2D, Flatten, MaxPooling2D\n",
    "from tensorflow.keras.layers import RandomFlip, RandomZoom, RandomRotation, Rescaling\n",
    "from tensorflow.keras.callbacks import EarlyStopping, ReduceLROnPlateau"
   ]
  },
  {
   "cell_type": "markdown",
   "metadata": {},
   "source": [
    "### Data Preparation"
   ]
  },
  {
   "cell_type": "code",
   "execution_count": 56,
   "id": "7763d0c5",
   "metadata": {},
   "outputs": [
    {
     "name": "stdout",
     "output_type": "stream",
     "text": [
      "Found 4192 images belonging to 2 classes.\n",
      "Found 624 images belonging to 2 classes.\n",
      "Found 1040 images belonging to 2 classes.\n"
     ]
    }
   ],
   "source": [
    "# Directories definition\n",
    "train_path = \"C:/Users/user/Desktop/Chest Xray Classifier/dataset/train\"\n",
    "test_path = \"C:/Users/user/Desktop/Chest Xray Classifier/dataset/test\"\n",
    "val_path = \"C:/Users/user/Desktop/Chest Xray Classifier/dataset/val\"\n",
    "\n",
    "# Basic parameters (image dimension and batch size)\n",
    "batch_size = 16\n",
    "img_height = 500\n",
    "img_width = 500\n",
    "\n",
    "# Data Augmentation\n",
    "\n",
    "from tensorflow.keras.preprocessing.image import ImageDataGenerator\n",
    "\n",
    "# Image Data Generator for Training data set\n",
    "# Randomly augment training data\n",
    "image_gen = ImageDataGenerator(\n",
    "    rescale=1./255,\n",
    "    shear_range=0.2,\n",
    "    zoom_range=0.2,\n",
    "    horizontal_flip=True\n",
    "    )\n",
    "\n",
    "# Image Data Generator for Test/Validation data set\n",
    "test_data_gen = ImageDataGenerator(rescale=1./255)\n",
    "\n",
    "\n",
    "# Load data\n",
    "train = image_gen.flow_from_directory(train_path,\n",
    "                                      target_size=(img_height, img_width),\n",
    "                                      color_mode='grayscale',\n",
    "                                      shuffle=False,\n",
    "                                      class_mode='binary',\n",
    "                                      batch_size=batch_size)\n",
    "\n",
    "test = test_data_gen.flow_from_directory(test_path,\n",
    "                                          target_size=(img_height, img_width),\n",
    "                                          color_mode='grayscale',\n",
    "                                          shuffle=False, \n",
    "                                          class_mode='binary',\n",
    "                                          batch_size=batch_size)\n",
    "\n",
    "valid = test_data_gen.flow_from_directory(val_path,\n",
    "                                          target_size=(img_height, img_width),\n",
    "                                          color_mode='grayscale',\n",
    "                                          class_mode='binary',\n",
    "                                          batch_size=batch_size)\n"
   ]
  },
  {
   "cell_type": "markdown",
   "metadata": {},
   "source": [
    "### Model "
   ]
  },
  {
   "cell_type": "code",
   "execution_count": 61,
   "id": "76e4a447",
   "metadata": {},
   "outputs": [],
   "source": [
    "# Model Architecture (Input->CNN->Flat->ANN->Output)\n",
    "cnn = Sequential()\n",
    "\n",
    "# Data augmentation layer (part of model)\n",
    "# data_augmentation = tf.keras.Sequential([\n",
    "#     tf.keras.layers.Rescaling(1./255),\n",
    "#     tf.keras.layers.RandomFlip(\"horizontal\"),\n",
    "#     tf.keras.layers.RandomZoom(0.2),\n",
    "#     tf.keras.layers.RandomRotation(0.2)\n",
    "# ])\n",
    "# cnn.add(data_augmentation)\n",
    "\n",
    "# Convolution and Pooling Layers\n",
    "cnn.add(Conv2D(32, (3, 3), activation=\"relu\", input_shape=(img_width, img_height, 1)))\n",
    "cnn.add(MaxPooling2D(pool_size=(2, 2)))\n",
    "cnn.add(Conv2D(32, (3, 3), activation=\"relu\"))\n",
    "cnn.add(MaxPooling2D(pool_size=(2, 2)))\n",
    "cnn.add(Conv2D(32, (3, 3), activation=\"relu\"))\n",
    "cnn.add(MaxPooling2D(pool_size=(2, 2)))\n",
    "cnn.add(Conv2D(64, (3, 3), activation=\"relu\"))\n",
    "cnn.add(MaxPooling2D(pool_size=(2, 2)))\n",
    "cnn.add(Conv2D(64, (3, 3), activation=\"relu\"))\n",
    "cnn.add(MaxPooling2D(pool_size=(2, 2)))\n",
    "\n",
    "# Flatten \n",
    "cnn.add(Flatten())\n",
    "\n",
    "# Fully-connected Neural Network Layers\n",
    "cnn.add(Dense(activation='relu', units = 128))\n",
    "cnn.add(Dense(activation='relu', units = 64))\n",
    "cnn.add(Dense(activation='sigmoid', units = 1))\n",
    "\n",
    "cnn.compile(optimizer = 'adam', loss = 'binary_crossentropy', metrics = ['accuracy'])\n",
    "\n",
    "# Regularization callbacks\n",
    "early = EarlyStopping(monitor=\"val_loss\", mode=\"min\", patience=1) # Patience: no. of epochs to run after monitored parameter stops changing\n",
    "learning_rate_reduction = ReduceLROnPlateau(monitor='val_loss', patience=3, verbose=1, factor=0.3, min_lr=0.00001)\n",
    "callbacks_ls = [early, learning_rate_reduction] \n",
    "\n",
    "# Class weights for unbalanced datasets\n",
    "# Assign higher weights to the minority class, reduce bias towards majority class\n",
    "# Calculate proportion, invert it as a counter-bias\n",
    "# from sklearn.utils.class_weight import compute_class_weight\n",
    "# weights = compute_class_weight('balanced', np.unique(train.class_names))\n",
    "# class_weight_val = dict(zip(np.unique(train.class_names), weights))\n",
    "# #print(class_weight_val)"
   ]
  },
  {
   "cell_type": "markdown",
   "metadata": {},
   "source": [
    "### Training"
   ]
  },
  {
   "cell_type": "code",
   "execution_count": 62,
   "id": "2da9a0ab",
   "metadata": {},
   "outputs": [
    {
     "name": "stdout",
     "output_type": "stream",
     "text": [
      "Epoch 1/10\n",
      "262/262 [==============================] - 451s 2s/step - loss: 0.6471 - accuracy: 0.7288 - val_loss: 0.4763 - val_accuracy: 0.7433 - lr: 0.0010\n",
      "Epoch 2/10\n",
      "262/262 [==============================] - 477s 2s/step - loss: 0.5615 - accuracy: 0.7576 - val_loss: 0.3441 - val_accuracy: 0.8317 - lr: 0.0010\n",
      "Epoch 3/10\n",
      "262/262 [==============================] - 482s 2s/step - loss: 0.4619 - accuracy: 0.8108 - val_loss: 0.3203 - val_accuracy: 0.9077 - lr: 0.0010\n",
      "Epoch 4/10\n",
      "262/262 [==============================] - 481s 2s/step - loss: 0.3340 - accuracy: 0.8683 - val_loss: 0.2645 - val_accuracy: 0.8923 - lr: 0.0010\n",
      "Epoch 5/10\n",
      "262/262 [==============================] - 481s 2s/step - loss: 0.2779 - accuracy: 0.8943 - val_loss: 0.2420 - val_accuracy: 0.9077 - lr: 0.0010\n",
      "Epoch 6/10\n",
      "262/262 [==============================] - 481s 2s/step - loss: 0.2386 - accuracy: 0.9060 - val_loss: 0.1704 - val_accuracy: 0.9337 - lr: 0.0010\n",
      "Epoch 7/10\n",
      "262/262 [==============================] - 490s 2s/step - loss: 0.2557 - accuracy: 0.9048 - val_loss: 0.1757 - val_accuracy: 0.9413 - lr: 0.0010\n"
     ]
    },
    {
     "data": {
      "text/plain": [
       "<AxesSubplot:>"
      ]
     },
     "execution_count": 62,
     "metadata": {},
     "output_type": "execute_result"
    },
    {
     "data": {
      "image/png": "[encoded data removed]",
      "text/plain": [
       "<Figure size 432x288 with 1 Axes>"
      ]
     },
     "metadata": {
      "needs_background": "light"
     },
     "output_type": "display_data"
    }
   ],
   "source": [
    "# Train model (run this cell to train)\n",
    "# cnn.fit(train, epochs=30, validation_data=valid, class_weight=class_weight_val, callbacks=callbacks_ls)\n",
    "cnn.fit(train, epochs=10, validation_data=valid, callbacks=callbacks_ls)\n",
    "# Training metric visualization\n",
    "pd.DataFrame(cnn.history.history).plot()"
   ]
  },
  {
   "cell_type": "markdown",
   "metadata": {},
   "source": [
    "### Model Evaluation"
   ]
  },
  {
   "cell_type": "code",
   "execution_count": 68,
   "id": "bda0668d",
   "metadata": {},
   "outputs": [
    {
     "name": "stdout",
     "output_type": "stream",
     "text": [
      "39/39 [==============================] - 15s 377ms/step - loss: 0.4205 - accuracy: 0.8253\n",
      "Test Accuracy:  82.53205418586731 %\n",
      "39/39 [==============================] - 16s 400ms/step\n",
      "              precision    recall  f1-score   support\n",
      "\n",
      "      NORMAL       0.89      0.61      0.72       234\n",
      "   PNEUMONIA       0.80      0.95      0.87       390\n",
      "\n",
      "    accuracy                           0.83       624\n",
      "   macro avg       0.85      0.78      0.80       624\n",
      "weighted avg       0.84      0.83      0.82       624\n",
      "\n"
     ]
    },
    {
     "data": {
      "text/plain": [
       "<AxesSubplot:>"
      ]
     },
     "execution_count": 68,
     "metadata": {},
     "output_type": "execute_result"
    },
    {
     "data": {
      "image/png": "[encoded data removed]",
      "text/plain": [
       "<Figure size 432x288 with 2 Axes>"
      ]
     },
     "metadata": {
      "needs_background": "light"
     },
     "output_type": "display_data"
    }
   ],
   "source": [
    "# Model evaluation\n",
    "test_model = cnn.evaluate(test)\n",
    "test_accu = test_model[1] * 100\n",
    "print('Test Accuracy: ', test_accu, '%')\n",
    "\n",
    "# Assign binary classes to prediction output (Sigmoid: 0 < output < 1)\n",
    "prediction = cnn.predict(test, verbose=1)\n",
    "prediction_bin = prediction.copy()\n",
    "prediction_bin[prediction_bin <=0.5 ] = 0\n",
    "prediction_bin[prediction > 0.5] = 1\n",
    "\n",
    "# Confusion matrix\n",
    "from sklearn.metrics import classification_report, confusion_matrix\n",
    "con_mat = pd.DataFrame(data=confusion_matrix(test.classes, prediction_bin, labels=[0, 1]),\n",
    "                       index=[\"Actual Normal\", \"Actual Pneumonia\"],\n",
    "                       columns=[\"Predicted Normal\", \"Predicted Pneumonia\"])\n",
    "print(classification_report(y_true=test.classes, y_pred=prediction_bin, target_names=['NORMAL','PNEUMONIA']))\n",
    "\n",
    "import seaborn as sns\n",
    "sns.heatmap(con_mat, annot=True, fmt='d')\n"
   ]
  }
 ],
 "metadata": {
  "kernelspec": {
   "display_name": "Python 3 (ipykernel)",
   "language": "python",
   "name": "python3"
  },
  "language_info": {
   "codemirror_mode": {
    "name": "ipython",
    "version": 3
   },
   "file_extension": ".py",
   "mimetype": "text/x-python",
   "name": "python",
   "nbconvert_exporter": "python",
   "pygments_lexer": "ipython3",
   "version": "3.9.6"
  }
 },
 "nbformat": 4,
 "nbformat_minor": 5
}
