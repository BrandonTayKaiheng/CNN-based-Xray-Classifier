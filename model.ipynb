{
 "cells": [
  {
   "cell_type": "markdown",
   "metadata": {},
   "source": []
  },
  {
   "cell_type": "code",
   "execution_count": 12,
   "metadata": {},
   "outputs": [],
   "source": [
    "# Imports (Non exhaustive)\n",
    "import numpy as np    \n",
    "import pandas as pd\n",
    "import matplotlib.pyplot as plt\n",
    "\n",
    "# Tensorflow API new structure for Tensorflow v2.15.0\n",
    "import tensorflow as tf\n",
    "from tensorflow import keras\n",
    "from tensorflow.keras.models import Sequential\n",
    "from tensorflow.keras.layers import Dense, Conv2D, Flatten, MaxPooling2D\n",
    "from tensorflow.keras.layers import RandomFlip, RandomZoom, RandomRotation, Rescaling\n",
    "from tensorflow.keras.callbacks import EarlyStopping, ReduceLROnPlateau"
   ]
  },
  {
   "cell_type": "code",
   "execution_count": 15,
   "id": "4f5ae331",
   "metadata": {},
   "outputs": [],
   "source": [
    "# Directories definition\n",
    "train_path = \"C:/Users/user/Desktop/Chest Xray Classifier/dataset/train\"\n",
    "test_path = \"C:/Users/user/Desktop/Chest Xray Classifier/dataset/test\"\n",
    "val_path = \"C:/Users/user/Desktop/Chest Xray Classifier/dataset/val\"\n",
    "\n",
    "# Basic parameters (image dimension and batch size)\n",
    "batch_size = 16\n",
    "img_height = 500\n",
    "img_width = 500"
   ]
  },
  {
   "cell_type": "code",
   "execution_count": 16,
   "id": "7763d0c5",
   "metadata": {},
   "outputs": [
    {
     "name": "stdout",
     "output_type": "stream",
     "text": [
      "Found 4192 files belonging to 2 classes.\n",
      "Found 624 files belonging to 2 classes.\n",
      "Found 1040 files belonging to 2 classes.\n"
     ]
    }
   ],
   "source": [
    "# Data Preparation\n",
    "\n",
    "# Load data\n",
    "\n",
    "train = tf.keras.utils.image_dataset_from_directory(train_path,\n",
    "                                                    image_size=(img_height, img_width),\n",
    "                                                    color_mode='grayscale',\n",
    "                                                    batch_size=batch_size)\n",
    "\n",
    "test = tf.keras.utils.image_dataset_from_directory(test_path,\n",
    "                                                   image_size=(img_height, img_width),\n",
    "                                                   color_mode='grayscale',\n",
    "                                                   shuffle=False, \n",
    "                                                   label_mode='binary',\n",
    "                                                   batch_size=batch_size)\n",
    "\n",
    "valid = tf.keras.utils.image_dataset_from_directory(val_path,\n",
    "                                                    image_size=(img_height, img_width),\n",
    "                                                    color_mode='grayscale',\n",
    "                                                    label_mode='binary',\n",
    "                                                    batch_size=batch_size)\n"
   ]
  },
  {
   "cell_type": "code",
   "execution_count": 17,
   "id": "76e4a447",
   "metadata": {},
   "outputs": [],
   "source": [
    "# Model Architecture (Input->CNN->Flat->ANN->Output)\n",
    "cnn = Sequential()\n",
    "\n",
    "# Preprocessing (data augmentation) layers\n",
    "data_augmentation = tf.keras.Sequential([\n",
    "    tf.keras.layers.Rescaling(1./255),\n",
    "    tf.keras.layers.RandomFlip(\"horizontal\"),\n",
    "    tf.keras.layers.RandomZoom(0.2),\n",
    "    tf.keras.layers.RandomRotation(0.2),    \n",
    "    ])\n",
    "cnn.add(data_augmentation)\n",
    "\n",
    "# Convolution and Pooling Layers\n",
    "cnn.add(Conv2D(32, (3, 3), activation=\"relu\", input_shape=(img_width, img_height, 1)))\n",
    "cnn.add(MaxPooling2D(pool_size=(2, 2)))\n",
    "cnn.add(Conv2D(32, (3, 3), activation=\"relu\", input_shape=(img_width, img_height, 1)))\n",
    "cnn.add(MaxPooling2D(pool_size=(2, 2)))\n",
    "cnn.add(Conv2D(64, (3, 3), activation=\"relu\", input_shape=(img_width, img_height, 1)))\n",
    "cnn.add(MaxPooling2D(pool_size=(2, 2)))\n",
    "cnn.add(Conv2D(64, (3, 3), activation=\"relu\", input_shape=(img_width, img_height, 1)))\n",
    "cnn.add(MaxPooling2D(pool_size=(2, 2)))\n",
    "\n",
    "# Flatten \n",
    "cnn.add(Flatten())\n",
    "\n",
    "# Fully-connected Neural Network Layers\n",
    "cnn.add(Dense(activation='relu', units = 128))\n",
    "cnn.add(Dense(activation='relu', units = 64))\n",
    "cnn.add(Dense(activation='relu', units = 64))\n",
    "cnn.add(Dense(activation='sigmoid', units = 1))\n",
    "\n",
    "cnn.compile(optimizer = 'adam', loss = 'binary_crossentropy', metrics = ['accuracy'])\n",
    "\n",
    "# Regularization callbacks\n",
    "early = EarlyStopping(monitor=\"val_loss\", mode=\"min\", patience=3) # Patience: no. of epochs to run after monitored parameter stops changing\n",
    "learning_rate_reduction = ReduceLROnPlateau(monitor='val_loss', patience=3, verbose=1, factor=0.3, min_lr=0.00001)\n",
    "callbacks_ls = [early, learning_rate_reduction] \n",
    "\n",
    "# Class weights for unbalanced datasets\n",
    "# Assign higher weights to the minority class, reduce bias towards majority class\n",
    "# Calculate proportion, invert it as a counter-bias\n",
    "# from sklearn.utils.class_weight import compute_class_weight\n",
    "# weights = compute_class_weight('balanced', np.unique(train.class_names))\n",
    "# class_weight_val = dict(zip(np.unique(train.class_names), weights))\n",
    "# #print(class_weight_val)"
   ]
  },
  {
   "cell_type": "code",
   "execution_count": 19,
   "id": "2da9a0ab",
   "metadata": {},
   "outputs": [
    {
     "name": "stdout",
     "output_type": "stream",
     "text": [
      "Epoch 1/10\n"
     ]
    },
    {
     "name": "stdout",
     "output_type": "stream",
     "text": [
      "262/262 [==============================] - 546s 2s/step - loss: 0.3454 - accuracy: 0.8387 - val_loss: 0.2696 - val_accuracy: 0.9058 - lr: 0.0010\n",
      "Epoch 2/10\n",
      "262/262 [==============================] - 542s 2s/step - loss: 0.2724 - accuracy: 0.8860 - val_loss: 0.3015 - val_accuracy: 0.8740 - lr: 0.0010\n",
      "Epoch 3/10\n",
      "262/262 [==============================] - 551s 2s/step - loss: 0.2415 - accuracy: 0.9024 - val_loss: 0.2833 - val_accuracy: 0.8779 - lr: 0.0010\n",
      "Epoch 4/10\n",
      "262/262 [==============================] - ETA: 0s - loss: 0.2208 - accuracy: 0.9125\n",
      "Epoch 4: ReduceLROnPlateau reducing learning rate to 0.0003000000142492354.\n",
      "262/262 [==============================] - 541s 2s/step - loss: 0.2208 - accuracy: 0.9125 - val_loss: 0.5205 - val_accuracy: 0.7885 - lr: 0.0010\n"
     ]
    },
    {
     "data": {
      "text/plain": [
       "<AxesSubplot:>"
      ]
     },
     "execution_count": 19,
     "metadata": {},
     "output_type": "execute_result"
    },
    {
     "data": {
      "image/png": "[encoded data removed]",
      "text/plain": [
       "<Figure size 432x288 with 1 Axes>"
      ]
     },
     "metadata": {
      "needs_background": "light"
     },
     "output_type": "display_data"
    }
   ],
   "source": [
    "# Train model (run this cell to train)\n",
    "# cnn.fit(train, epochs=30, validation_data=valid, class_weight=class_weight_val, callbacks=callbacks_ls)\n",
    "cnn.fit(train, epochs=10, validation_data=valid, callbacks=callbacks_ls)\n",
    "# Training metric visualization\n",
    "pd.DataFrame(cnn.history.history).plot()"
   ]
  },
  {
   "cell_type": "code",
   "execution_count": 23,
   "id": "bda0668d",
   "metadata": {},
   "outputs": [
    {
     "name": "stdout",
     "output_type": "stream",
     "text": [
      "39/39 [==============================] - 14s 362ms/step - loss: 0.3664 - accuracy: 0.8429\n",
      "Test Accuracy:  84.29487347602844 %\n",
      "39/39 [==============================] - 16s 405ms/step\n"
     ]
    },
    {
     "ename": "ValueError",
     "evalue": "Found input variables with inconsistent numbers of samples: [2, 624]",
     "output_type": "error",
     "traceback": [
      "\u001b[1;31m---------------------------------------------------------------------------\u001b[0m",
      "\u001b[1;31mValueError\u001b[0m                                Traceback (most recent call last)",
      "\u001b[1;32mc:\\Users\\user\\Documents\\GitHub\\CNN-based-Xray-Classifier\\model.ipynb Cell 8\u001b[0m line \u001b[0;36m<cell line: 14>\u001b[1;34m()\u001b[0m\n\u001b[0;32m     <a href='vscode-notebook-cell:/c%3A/Users/user/Documents/GitHub/CNN-based-Xray-Classifier/model.ipynb#W5sZmlsZQ%3D%3D?line=11'>12</a>\u001b[0m \u001b[39m# Confusion matrix\u001b[39;00m\n\u001b[0;32m     <a href='vscode-notebook-cell:/c%3A/Users/user/Documents/GitHub/CNN-based-Xray-Classifier/model.ipynb#W5sZmlsZQ%3D%3D?line=12'>13</a>\u001b[0m \u001b[39mfrom\u001b[39;00m \u001b[39msklearn\u001b[39;00m\u001b[39m.\u001b[39;00m\u001b[39mmetrics\u001b[39;00m \u001b[39mimport\u001b[39;00m classification_report, confusion_matrix\n\u001b[1;32m---> <a href='vscode-notebook-cell:/c%3A/Users/user/Documents/GitHub/CNN-based-Xray-Classifier/model.ipynb#W5sZmlsZQ%3D%3D?line=13'>14</a>\u001b[0m con_mat \u001b[39m=\u001b[39m pd\u001b[39m.\u001b[39mDataFrame(data\u001b[39m=\u001b[39mconfusion_matrix(test\u001b[39m.\u001b[39;49mclass_names, prediction_bin, labels\u001b[39m=\u001b[39;49m[\u001b[39m0\u001b[39;49m, \u001b[39m1\u001b[39;49m]),\n\u001b[0;32m     <a href='vscode-notebook-cell:/c%3A/Users/user/Documents/GitHub/CNN-based-Xray-Classifier/model.ipynb#W5sZmlsZQ%3D%3D?line=14'>15</a>\u001b[0m                        index\u001b[39m=\u001b[39m[\u001b[39m\"\u001b[39m\u001b[39mActual Normal\u001b[39m\u001b[39m\"\u001b[39m, \u001b[39m\"\u001b[39m\u001b[39mActual Pneumonia\u001b[39m\u001b[39m\"\u001b[39m],\n\u001b[0;32m     <a href='vscode-notebook-cell:/c%3A/Users/user/Documents/GitHub/CNN-based-Xray-Classifier/model.ipynb#W5sZmlsZQ%3D%3D?line=15'>16</a>\u001b[0m                        columns\u001b[39m=\u001b[39m[\u001b[39m\"\u001b[39m\u001b[39mPredicted Normal\u001b[39m\u001b[39m\"\u001b[39m, \u001b[39m\"\u001b[39m\u001b[39mPredicted Pneumonia\u001b[39m\u001b[39m\"\u001b[39m])\n\u001b[0;32m     <a href='vscode-notebook-cell:/c%3A/Users/user/Documents/GitHub/CNN-based-Xray-Classifier/model.ipynb#W5sZmlsZQ%3D%3D?line=16'>17</a>\u001b[0m \u001b[39mprint\u001b[39m(classification_report(y_true\u001b[39m=\u001b[39mtest\u001b[39m.\u001b[39mclasses, y_pred\u001b[39m=\u001b[39mprediction_bin, target_names\u001b[39m=\u001b[39m[\u001b[39m'\u001b[39m\u001b[39mNORMAL\u001b[39m\u001b[39m'\u001b[39m,\u001b[39m'\u001b[39m\u001b[39mPNEUMONIA\u001b[39m\u001b[39m'\u001b[39m]))\n",
      "File \u001b[1;32mc:\\Users\\user\\AppData\\Local\\Programs\\Python\\Python39\\lib\\site-packages\\sklearn\\metrics\\_classification.py:302\u001b[0m, in \u001b[0;36mconfusion_matrix\u001b[1;34m(y_true, y_pred, labels, sample_weight, normalize)\u001b[0m\n\u001b[0;32m    216\u001b[0m \u001b[39mdef\u001b[39;00m \u001b[39mconfusion_matrix\u001b[39m(\n\u001b[0;32m    217\u001b[0m     y_true, y_pred, \u001b[39m*\u001b[39m, labels\u001b[39m=\u001b[39m\u001b[39mNone\u001b[39;00m, sample_weight\u001b[39m=\u001b[39m\u001b[39mNone\u001b[39;00m, normalize\u001b[39m=\u001b[39m\u001b[39mNone\u001b[39;00m\n\u001b[0;32m    218\u001b[0m ):\n\u001b[0;32m    219\u001b[0m     \u001b[39m\"\"\"Compute confusion matrix to evaluate the accuracy of a classification.\u001b[39;00m\n\u001b[0;32m    220\u001b[0m \n\u001b[0;32m    221\u001b[0m \u001b[39m    By definition a confusion matrix :math:`C` is such that :math:`C_{i, j}`\u001b[39;00m\n\u001b[1;32m   (...)\u001b[0m\n\u001b[0;32m    300\u001b[0m \n\u001b[0;32m    301\u001b[0m \u001b[39m    \"\"\"\u001b[39;00m\n\u001b[1;32m--> 302\u001b[0m     y_type, y_true, y_pred \u001b[39m=\u001b[39m _check_targets(y_true, y_pred)\n\u001b[0;32m    303\u001b[0m     \u001b[39mif\u001b[39;00m y_type \u001b[39mnot\u001b[39;00m \u001b[39min\u001b[39;00m (\u001b[39m\"\u001b[39m\u001b[39mbinary\u001b[39m\u001b[39m\"\u001b[39m, \u001b[39m\"\u001b[39m\u001b[39mmulticlass\u001b[39m\u001b[39m\"\u001b[39m):\n\u001b[0;32m    304\u001b[0m         \u001b[39mraise\u001b[39;00m \u001b[39mValueError\u001b[39;00m(\u001b[39m\"\u001b[39m\u001b[39m%s\u001b[39;00m\u001b[39m is not supported\u001b[39m\u001b[39m\"\u001b[39m \u001b[39m%\u001b[39m y_type)\n",
      "File \u001b[1;32mc:\\Users\\user\\AppData\\Local\\Programs\\Python\\Python39\\lib\\site-packages\\sklearn\\metrics\\_classification.py:84\u001b[0m, in \u001b[0;36m_check_targets\u001b[1;34m(y_true, y_pred)\u001b[0m\n\u001b[0;32m     57\u001b[0m \u001b[39mdef\u001b[39;00m \u001b[39m_check_targets\u001b[39m(y_true, y_pred):\n\u001b[0;32m     58\u001b[0m     \u001b[39m\"\"\"Check that y_true and y_pred belong to the same classification task.\u001b[39;00m\n\u001b[0;32m     59\u001b[0m \n\u001b[0;32m     60\u001b[0m \u001b[39m    This converts multiclass or binary types to a common shape, and raises a\u001b[39;00m\n\u001b[1;32m   (...)\u001b[0m\n\u001b[0;32m     82\u001b[0m \u001b[39m    y_pred : array or indicator matrix\u001b[39;00m\n\u001b[0;32m     83\u001b[0m \u001b[39m    \"\"\"\u001b[39;00m\n\u001b[1;32m---> 84\u001b[0m     check_consistent_length(y_true, y_pred)\n\u001b[0;32m     85\u001b[0m     type_true \u001b[39m=\u001b[39m type_of_target(y_true)\n\u001b[0;32m     86\u001b[0m     type_pred \u001b[39m=\u001b[39m type_of_target(y_pred)\n",
      "File \u001b[1;32mc:\\Users\\user\\AppData\\Local\\Programs\\Python\\Python39\\lib\\site-packages\\sklearn\\utils\\validation.py:331\u001b[0m, in \u001b[0;36mcheck_consistent_length\u001b[1;34m(*arrays)\u001b[0m\n\u001b[0;32m    329\u001b[0m uniques \u001b[39m=\u001b[39m np\u001b[39m.\u001b[39munique(lengths)\n\u001b[0;32m    330\u001b[0m \u001b[39mif\u001b[39;00m \u001b[39mlen\u001b[39m(uniques) \u001b[39m>\u001b[39m \u001b[39m1\u001b[39m:\n\u001b[1;32m--> 331\u001b[0m     \u001b[39mraise\u001b[39;00m \u001b[39mValueError\u001b[39;00m(\n\u001b[0;32m    332\u001b[0m         \u001b[39m\"\u001b[39m\u001b[39mFound input variables with inconsistent numbers of samples: \u001b[39m\u001b[39m%r\u001b[39;00m\u001b[39m\"\u001b[39m\n\u001b[0;32m    333\u001b[0m         \u001b[39m%\u001b[39m [\u001b[39mint\u001b[39m(l) \u001b[39mfor\u001b[39;00m l \u001b[39min\u001b[39;00m lengths]\n\u001b[0;32m    334\u001b[0m     )\n",
      "\u001b[1;31mValueError\u001b[0m: Found input variables with inconsistent numbers of samples: [2, 624]"
     ]
    }
   ],
   "source": [
    "# Model evaluation\n",
    "test_model = cnn.evaluate(test)\n",
    "test_accu = test_model[1] * 100\n",
    "print('Test Accuracy: ', test_accu, '%')\n",
    "\n",
    "# Assign binary classes to prediction output (Sigmoid: 0 < output < 1)\n",
    "prediction = cnn.predict(test, verbose=1)\n",
    "prediction_bin = prediction.copy()\n",
    "prediction_bin[prediction_bin <=0.5 ] = 0\n",
    "prediction_bin[prediction > 0.5] = 1\n",
    "\n",
    "# Confusion matrix\n",
    "from sklearn.metrics import classification_report, confusion_matrix\n",
    "con_mat = pd.DataFrame(data=confusion_matrix(test.class_names, prediction_bin, labels=[0, 1]),\n",
    "                       index=[\"Actual Normal\", \"Actual Pneumonia\"],\n",
    "                       columns=[\"Predicted Normal\", \"Predicted Pneumonia\"])\n",
    "print(classification_report(y_true=test.classes, y_pred=prediction_bin, target_names=['NORMAL','PNEUMONIA']))"
   ]
  }
 ],
 "metadata": {
  "kernelspec": {
   "display_name": "Python 3 (ipykernel)",
   "language": "python",
   "name": "python3"
  },
  "language_info": {
   "codemirror_mode": {
    "name": "ipython",
    "version": 3
   },
   "file_extension": ".py",
   "mimetype": "text/x-python",
   "name": "python",
   "nbconvert_exporter": "python",
   "pygments_lexer": "ipython3",
   "version": "3.9.6"
  }
 },
 "nbformat": 4,
 "nbformat_minor": 5
}
